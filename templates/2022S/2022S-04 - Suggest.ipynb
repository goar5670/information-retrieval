{
 "cells": [
  {
   "cell_type": "markdown",
   "metadata": {},
   "source": [
    "# Sugges_\n",
    "\n",
    "One of the strategies to improve user experience is to provide user with hints, or, otherwise, to autocomplete his queries. Let's consider suggest.\n",
    "\n",
    "Today we will practice generating suggestions using [Trie](https://en.wikipedia.org/wiki/Trie) data structure (prefix tree), see the example below.\n",
    "\n",
    "Plan of your homework:\n",
    "\n",
    "1. Build Trie based on real search query data, provided by AOL company;\n",
    "2. Generate suggestion based on a trie;\n",
    "3. Measure suggestion speed;\n",
    "4. [M] Add spellcheck to suggest.\n",
    "\n",
    "\n",
    "![image](https://www.ritambhara.in/wp-content/uploads/2017/05/Screen-Shot-2017-05-01-at-4.01.38-PM.png)\n",
    "\n",
    "## 0. Install Trie data structure support\n",
    "\n",
    "You are free to use any library implementation of Trie, as well as the one we suggest (read the docs before asking any questions!): https://github.com/google/pygtrie"
   ]
  },
  {
   "cell_type": "code",
   "execution_count": 3,
   "metadata": {},
   "outputs": [
    {
     "name": "stdout",
     "output_type": "stream",
     "text": [
      "\u001b[33mDEPRECATION: Configuring installation scheme with distutils config files is deprecated and will no longer work in the near future. If you are using a Homebrew or Linuxbrew Python, please see discussion at https://github.com/Homebrew/homebrew-core/issues/76621\u001b[0m\u001b[33m\n",
      "\u001b[0mCollecting pygtrie\n",
      "  Downloading pygtrie-2.4.2.tar.gz (35 kB)\n",
      "  Preparing metadata (setup.py) ... \u001b[?25ldone\n",
      "\u001b[?25hBuilding wheels for collected packages: pygtrie\n",
      "  Building wheel for pygtrie (setup.py) ... \u001b[?25ldone\n",
      "\u001b[?25h  Created wheel for pygtrie: filename=pygtrie-2.4.2-py3-none-any.whl size=19061 sha256=2fe91940f4c9ba9b99364afa57a4cb240cc85eec034e046cf648fa7dd184227a\n",
      "  Stored in directory: /Users/bl7awy/Library/Caches/pip/wheels/2e/5d/81/d6e52fec193180ffffef19b185ecf1d0a85d418808c20c09c9\n",
      "Successfully built pygtrie\n",
      "Installing collected packages: pygtrie\n",
      "\u001b[33m  DEPRECATION: Configuring installation scheme with distutils config files is deprecated and will no longer work in the near future. If you are using a Homebrew or Linuxbrew Python, please see discussion at https://github.com/Homebrew/homebrew-core/issues/76621\u001b[0m\u001b[33m\n",
      "\u001b[0m\u001b[33mDEPRECATION: Configuring installation scheme with distutils config files is deprecated and will no longer work in the near future. If you are using a Homebrew or Linuxbrew Python, please see discussion at https://github.com/Homebrew/homebrew-core/issues/76621\u001b[0m\u001b[33m\n",
      "\u001b[0mSuccessfully installed pygtrie-2.4.2\n"
     ]
    }
   ],
   "source": [
    "!pip3 install pygtrie"
   ]
  },
  {
   "cell_type": "markdown",
   "metadata": {},
   "source": [
    "### 0.1. Check it works and understand the example"
   ]
  },
  {
   "cell_type": "code",
   "execution_count": 1,
   "metadata": {},
   "outputs": [
    {
     "name": "stdout",
     "output_type": "stream",
     "text": [
      "CharTrie(this is 1: A, this is 2: B, that is 3: C)\n",
      "Node = False\n",
      "Subtree = True\n",
      "this is 1 ~ A\n",
      "this is 2 ~ B\n"
     ]
    }
   ],
   "source": [
    "import pygtrie\n",
    "t = pygtrie.CharTrie()\n",
    "\n",
    "# trie can be considered as a form of organizing a set of map\n",
    "t[\"this is 1\"] = \"A\"\n",
    "t[\"this is 2\"] = \"B\"\n",
    "t[\"that is 3\"] = \"C\"\n",
    "\n",
    "print(t)\n",
    "\n",
    "# \"this\" string is present in a set\n",
    "n = t.has_node('this') == pygtrie.Trie.HAS_VALUE\n",
    "# \"this\" prefix is present in a set\n",
    "s = t.has_node('this') == pygtrie.Trie.HAS_SUBTRIE\n",
    "\n",
    "print(f\"Node = {n}\\nSubtree = {s}\")\n",
    "\n",
    "# iterate a subtree\n",
    "for key, val in t.iteritems(\"this\"):\n",
    "    print(key, '~', val)"
   ]
  },
  {
   "cell_type": "markdown",
   "metadata": {},
   "source": [
    "## 1. Build a trie upon a dataset\n",
    "\n",
    "### 1.1. [5] Read the dataset\n",
    "\n",
    "Download the [dataset](https://github.com/IUCVLab/information-retrieval/tree/main/datasets/aol) (we provide only the first part of the original data for simplicity (~3.5 mln queries)).\n",
    "\n",
    "Explore the data, see readme file. Load the dataset. Pass the assert."
   ]
  },
  {
   "cell_type": "code",
   "execution_count": 2,
   "metadata": {},
   "outputs": [],
   "source": [
    "import pandas as pd\n",
    "\n",
    "aol_data = None\n",
    "\n",
    "#TODO: Read the dataset, e.g. as pandas dataframe\n",
    "aol_data = pd.read_csv('../../datasets/aol/user-ct-test-collection-01.txt.gz', delimiter='\\t', compression='gzip')\n",
    "\n",
    "assert aol_data.shape[0] == 3558411, \"Dataset size does not match\""
   ]
  },
  {
   "cell_type": "code",
   "execution_count": 3,
   "metadata": {},
   "outputs": [
    {
     "data": {
      "text/html": [
       "<div>\n",
       "<style scoped>\n",
       "    .dataframe tbody tr th:only-of-type {\n",
       "        vertical-align: middle;\n",
       "    }\n",
       "\n",
       "    .dataframe tbody tr th {\n",
       "        vertical-align: top;\n",
       "    }\n",
       "\n",
       "    .dataframe thead th {\n",
       "        text-align: right;\n",
       "    }\n",
       "</style>\n",
       "<table border=\"1\" class=\"dataframe\">\n",
       "  <thead>\n",
       "    <tr style=\"text-align: right;\">\n",
       "      <th></th>\n",
       "      <th>AnonID</th>\n",
       "      <th>Query</th>\n",
       "      <th>QueryTime</th>\n",
       "      <th>ItemRank</th>\n",
       "      <th>ClickURL</th>\n",
       "    </tr>\n",
       "  </thead>\n",
       "  <tbody>\n",
       "    <tr>\n",
       "      <th>0</th>\n",
       "      <td>142</td>\n",
       "      <td>rentdirect.com</td>\n",
       "      <td>2006-03-01 07:17:12</td>\n",
       "      <td>NaN</td>\n",
       "      <td>NaN</td>\n",
       "    </tr>\n",
       "    <tr>\n",
       "      <th>1</th>\n",
       "      <td>142</td>\n",
       "      <td>www.prescriptionfortime.com</td>\n",
       "      <td>2006-03-12 12:31:06</td>\n",
       "      <td>NaN</td>\n",
       "      <td>NaN</td>\n",
       "    </tr>\n",
       "    <tr>\n",
       "      <th>2</th>\n",
       "      <td>142</td>\n",
       "      <td>staple.com</td>\n",
       "      <td>2006-03-17 21:19:29</td>\n",
       "      <td>NaN</td>\n",
       "      <td>NaN</td>\n",
       "    </tr>\n",
       "    <tr>\n",
       "      <th>3</th>\n",
       "      <td>142</td>\n",
       "      <td>staple.com</td>\n",
       "      <td>2006-03-17 21:19:45</td>\n",
       "      <td>NaN</td>\n",
       "      <td>NaN</td>\n",
       "    </tr>\n",
       "    <tr>\n",
       "      <th>4</th>\n",
       "      <td>142</td>\n",
       "      <td>www.newyorklawyersite.com</td>\n",
       "      <td>2006-03-18 08:02:58</td>\n",
       "      <td>NaN</td>\n",
       "      <td>NaN</td>\n",
       "    </tr>\n",
       "  </tbody>\n",
       "</table>\n",
       "</div>"
      ],
      "text/plain": [
       "   AnonID                        Query            QueryTime  ItemRank ClickURL\n",
       "0     142               rentdirect.com  2006-03-01 07:17:12       NaN      NaN\n",
       "1     142  www.prescriptionfortime.com  2006-03-12 12:31:06       NaN      NaN\n",
       "2     142                   staple.com  2006-03-17 21:19:29       NaN      NaN\n",
       "3     142                   staple.com  2006-03-17 21:19:45       NaN      NaN\n",
       "4     142    www.newyorklawyersite.com  2006-03-18 08:02:58       NaN      NaN"
      ]
     },
     "execution_count": 3,
     "metadata": {},
     "output_type": "execute_result"
    }
   ],
   "source": [
    "aol_data.head(5)"
   ]
  },
  {
   "cell_type": "markdown",
   "metadata": {},
   "source": [
    "### 1.2. [10] Build a Trie\n",
    "\n",
    "We want a suggest function to be **non-sensitive to stop words** because we don't want to upset the users if they confuses/omits prepositions. Consider *\"public events in Innopolis\"* vs *\"public events at Innopolis\"* or *\"public events Innopolis\"* - they all mean the same.\n",
    "\n",
    "Build a Trie based on the dataset, **storing query statistics such as query _frequency_, urls and ranks in the nodes**. Some queries may have no associated urls, others may have multiple ranked urls. Think of the way to store this information.\n",
    "\n",
    "Pass the asserts."
   ]
  },
  {
   "cell_type": "code",
   "execution_count": 4,
   "metadata": {},
   "outputs": [],
   "source": [
    "stops = set('a on at of to is from for and with using the in &'.split())"
   ]
  },
  {
   "cell_type": "code",
   "execution_count": 5,
   "metadata": {},
   "outputs": [
    {
     "name": "stderr",
     "output_type": "stream",
     "text": [
      "100%|██████████████████████████████| 3558411/3558411 [03:37<00:00, 16393.57it/s]\n"
     ]
    }
   ],
   "source": [
    "import numpy as np\n",
    "from tqdm import tqdm, tqdm_notebook\n",
    "\n",
    "tqdm.pandas()\n",
    "\n",
    "aol_trie = pygtrie.CharTrie()\n",
    "\n",
    "#TODO: build a trie based on the dataset\n",
    "class TrieItem:\n",
    "    def __init__(self):\n",
    "        self.urls = []\n",
    "        self.frequency = 0\n",
    "        self.queries = set()\n",
    "    def add_query(self, query, url, rank):\n",
    "        if url is not None:\n",
    "            self.urls.append([url, rank])\n",
    "        self.frequency += 1\n",
    "        self.queries.add(query)\n",
    "\n",
    "def generate_trie(dataset):\n",
    "    trie = pygtrie.CharTrie()\n",
    "    N = len(dataset)\n",
    "    for idx, row in tqdm(dataset.iterrows(), total=N):\n",
    "        row.replace(np.nan, None, inplace=True)\n",
    "        query, url, rank = row['Query'], row['ClickURL'], row['ItemRank']\n",
    "        if query is None:\n",
    "            query = ''\n",
    "\n",
    "        key = query.split()\n",
    "        key = [word for word in key if word not in stops]\n",
    "        key = \" \".join(key)\n",
    "\n",
    "        if not trie.has_node(key) == pygtrie.Trie.HAS_VALUE:\n",
    "            trie[key] = TrieItem()\n",
    "\n",
    "        trie[key].add_query(query, url, rank)\n",
    "    return trie\n",
    "\n",
    "aol_trie = generate_trie(aol_data)"
   ]
  },
  {
   "cell_type": "code",
   "execution_count": 43,
   "metadata": {},
   "outputs": [
    {
     "name": "stdout",
     "output_type": "stream",
     "text": [
      "sample question surveys ~ <__main__.TrieItem object at 0x2c160f5b0>\n",
      "sample questions immigration interview ~ <__main__.TrieItem object at 0x2c34105e0>\n",
      "sample questions interview ~ <__main__.TrieItem object at 0x2c3410880>\n",
      "sample questions family interview ~ <__main__.TrieItem object at 0x2c3410850>\n",
      "sample questions sociology race ethnicity ~ <__main__.TrieItem object at 0x2c3456c70>\n",
      "sample questions biology ~ <__main__.TrieItem object at 0x2c3514070>\n",
      "sample questions us citizenship test ~ <__main__.TrieItem object at 0x2ef4e3610>\n",
      "sample questionarie teaching evaluation ~ <__main__.TrieItem object at 0x2d3653cd0>\n",
      "sample questionnaire teaching evaluation ~ <__main__.TrieItem object at 0x2d3653160>\n",
      "sample questionnaire clinical research coordinators certification ~ <__main__.TrieItem object at 0x2ef99c760>\n"
     ]
    }
   ],
   "source": [
    "# test trie\n",
    "bag = []\n",
    "for key, val in aol_trie.iteritems(\"sample q\"):\n",
    "    print(key, '~', val)\n",
    "    \n",
    "    #NB: here we assume you store urls in a property of list type. But you can do something different. \n",
    "    bag += [link for [link, _] in val.urls]\n",
    "    \n",
    "    assert \"sample question\" in key, \"All examples have `sample question` substring\"\n",
    "    assert key[:len(\"sample question\")] == \"sample question\", \"All examples have `sample question` starting string\"\n",
    "\n",
    "for url in [\"http://www.surveyconnect.com\", \"http://www.custominsight.com\", \n",
    "            \"http://jobsearchtech.about.com\", \"http://www.troy.k12.ny.us\",\n",
    "            \"http://www.flinders.edu.au\", \"http://uscis.gov\"]:\n",
    "    assert url in bag, \"This url should be in a try\""
   ]
  },
  {
   "cell_type": "markdown",
   "metadata": {},
   "source": [
    "## 2. [15] Write a suggest function which is non-sensitive to stop words\n",
    "\n",
    "Suggest options for user query based on Trie you just built.\n",
    "Output results sorted by frequency, print query count for each suggestion. If there is an url available, print the url too. If multiple url-s are available, print the one with the highest rank (the less the better).\n",
    "\n",
    "Pass the asserts.\n",
    "\n",
    "Question for analysis: What is the empirical threshold for minimal prefix for suggest?"
   ]
  },
  {
   "cell_type": "code",
   "execution_count": 173,
   "metadata": {},
   "outputs": [],
   "source": [
    "def complete_user_query(query: str, trie, top_k=5) -> list[str]:\n",
    "    #TODO: suggest top_k options for a user query\n",
    "    # sort results by frequency (!!), \n",
    "    # suggest the QUERIES for first k ranked urls if available\n",
    "    \n",
    "    if not aol_trie.has_node(query) == pygtrie.Trie.HAS_SUBTRIE:\n",
    "        return []\n",
    "    \n",
    "#     print(\"All suggestions: Query, Link, Rank, Frequency\")\n",
    "#     for key, value in aol_trie.items(query):\n",
    "#         if(not value.urls == []):\n",
    "#             url, rank = min(value.urls, key=lambda tup: tup[1])\n",
    "#         else:\n",
    "#             url, rank = None, None\n",
    "#         print(key, \"|\", url, \"|\", rank, \"|\", value.frequency)\n",
    "\n",
    "    suggestions = [(q, value.frequency) for key, value in aol_trie.items(query)\n",
    "                                        for q in list(value.queries)]\n",
    "    suggestions.sort(key=lambda item: item[1], reverse=True)\n",
    "        \n",
    "    return [key for key, value in suggestions][:min(top_k, len(suggestions))]"
   ]
  },
  {
   "cell_type": "code",
   "execution_count": 174,
   "metadata": {},
   "outputs": [
    {
     "name": "stdout",
     "output_type": "stream",
     "text": [
      "Query: trie\n",
      "Results:\n",
      "['tried and true tattoo', 'triest', 'triethanalomine', 'tried and failed', \"tried and truechildren's consignment sale\"]\n"
     ]
    }
   ],
   "source": [
    "inp = \"trie\"\n",
    "print(\"Query:\", inp)\n",
    "print(\"Results:\")\n",
    "res = complete_user_query(inp, aol_trie)\n",
    "print(res)\n",
    "\n",
    "#NB we assume you return suggested query string only\n",
    "assert res[0] == \"tried and true tattoo\"\n",
    "assert res[1] == \"triest\" or res[1] == \"triethanalomine\"\n",
    "\n",
    "assert \"boys and girls club of conyers georgia\" \\\n",
    "            in complete_user_query(\"boys girls club conyers\", aol_trie, 10), \"Should be here\""
   ]
  },
  {
   "cell_type": "markdown",
   "metadata": {},
   "source": [
    "## 3. Measure suggest speed ##\n",
    "\n",
    "### 3.1. [10] Full Trie test\n",
    "\n",
    "Check how fast your search is working. Consider changing your code if it takes too long on average.\n",
    "\n",
    "Sucess criterion:\n",
    "- there is an average and variance for **multiple runs** of the given bucket.\n",
    "- there is an average and variance for **multiple runs** of naive search in unindexed dataset."
   ]
  },
  {
   "cell_type": "code",
   "execution_count": 8,
   "metadata": {},
   "outputs": [
    {
     "name": "stdout",
     "output_type": "stream",
     "text": [
      "query string: \"inf\", avg time with trie: 0.004780292510986328, avg time without trie: 43085.06336212158\n",
      "query string: \"the best \", avg time with trie: 0.0013113021850585938, avg time without trie: 43065.54193496704\n",
      "query string: \"information retrieval\", avg time with trie: 0.0029325485229492188, avg time without trie: 43154.944372177124\n",
      "query string: \"sherlock hol\", avg time with trie: 0.038492679595947266, avg time without trie: 43113.68336677551\n",
      "query string: \"carnegie mell\", avg time with trie: 0.01933574676513672, avg time without trie: 42959.504985809326\n",
      "query string: \"babies r\", avg time with trie: 0.008213520050048828, avg time without trie: 42913.1058216095\n",
      "query string: \"new york\", avg time with trie: 0.004136562347412109, avg time without trie: 42949.008321762085\n",
      "query string: \"googol\", avg time with trie: 0.0036478042602539062, avg time without trie: 42936.806201934814\n",
      "query string: \"inter\", avg time with trie: 0.004589557647705078, avg time without trie: 42835.758781433105\n",
      "query string: \"USA sta\", avg time with trie: 0.001621246337890625, avg time without trie: 42776.563119888306\n",
      "query string: \"Barbara \", avg time with trie: 0.0010132789611816406, avg time without trie: 42980.52635192871\n",
      "Average trie time over all queries: 0.008188594471324574, variance: 0.00011579481014082413\n",
      "Average naive time over all queries: 42979.136965491554, variance: 12430.704625727296\n"
     ]
    }
   ],
   "source": [
    "import time\n",
    "\n",
    "inp_queries = [\"inf\", \"the best \", \"information retrieval\", \"sherlock hol\", \"carnegie mell\", \n",
    "               \"babies r\", \"new york\", \"googol\", \"inter\", \"USA sta\", \"Barbara \"]\n",
    "\n",
    "#TODO: measure avg execution time (in milliseconds) per query and print it out\n",
    "def query_trie_avg_time(query, num_tries=20):\n",
    "    times = []\n",
    "    for _ in range(num_tries):\n",
    "        start = time.time()\n",
    "        res = complete_user_query(query, aol_trie)\n",
    "        end = time.time()\n",
    "        t = (end - start) * 1000\n",
    "        times.append(t)\n",
    "    return sum(times)/num_tries\n",
    "\n",
    "def naive_search(prefix, dataset):\n",
    "    res = []\n",
    "    \n",
    "    for idx, row in dataset.iterrows():\n",
    "        q = row['Query']\n",
    "        if(not q is np.nan and q.startswith(prefix)):\n",
    "            res.append(q)\n",
    "    return res\n",
    "\n",
    "def query_naive_avg_time(query, num_tries=5):\n",
    "    times = []\n",
    "    for _ in range(num_tries):\n",
    "        start = time.time()\n",
    "        res = naive_search(query, aol_data)\n",
    "        end = time.time()\n",
    "        t = (end - start) * 1000\n",
    "        times.append(t)\n",
    "    return sum(times)/num_tries\n",
    "    \n",
    "\n",
    "trie_times = []\n",
    "naive_times = []\n",
    "\n",
    "for query in inp_queries:\n",
    "    trie_time = query_trie_avg_time(query)\n",
    "    naive_time = query_naive_avg_time(query)\n",
    "    print(f'query string: \"{query}\", avg time with trie: {trie_time}, avg time without trie: {naive_time}')\n",
    "    \n",
    "    trie_times.append(trie_time)\n",
    "    naive_times.append(naive_time)\n",
    "\n",
    "print(f'Average trie time over all queries: {sum(trie_times)/len(trie_times)}, variance: {np.var(trie_times)}')\n",
    "print(f'Average naive time over all queries: {sum(naive_times)/len(naive_times)}, variance: {np.var(naive_times)}')"
   ]
  },
  {
   "cell_type": "markdown",
   "metadata": {},
   "source": [
    "### 3.2. [M][10] Assess how dataset size affect search time\n",
    "\n",
    "Study the speed of the trie data structure in $\\frac{1}{10}, \\frac{1}{4}, \\frac{1}{2}$, and full dataset. \n",
    "- Sample the data at random.\n",
    "- Plot the graph which shows how search time changes with dataset size.\n",
    "- Compare aganist bruteforce."
   ]
  },
  {
   "cell_type": "code",
   "execution_count": 9,
   "metadata": {},
   "outputs": [
    {
     "name": "stderr",
     "output_type": "stream",
     "text": [
      "100%|████████████████████████████████| 355841/355841 [00:29<00:00, 12176.69it/s]\n",
      "100%|████████████████████████████████| 711682/711682 [00:51<00:00, 13769.66it/s]\n",
      "100%|██████████████████████████████| 1067523/1067523 [01:29<00:00, 11915.54it/s]\n",
      "100%|██████████████████████████████| 1423364/1423364 [01:38<00:00, 14456.10it/s]\n",
      "100%|██████████████████████████████| 1779205/1779205 [02:25<00:00, 12229.65it/s]\n",
      "100%|██████████████████████████████| 2135046/2135046 [02:23<00:00, 14882.43it/s]\n",
      "100%|██████████████████████████████| 2490887/2490887 [03:16<00:00, 12705.77it/s]\n",
      "100%|██████████████████████████████| 2846728/2846728 [03:41<00:00, 12824.59it/s]\n",
      "100%|██████████████████████████████| 3202569/3202569 [03:26<00:00, 15532.53it/s]\n",
      "100%|██████████████████████████████| 3558411/3558411 [04:16<00:00, 13897.64it/s]\n"
     ]
    }
   ],
   "source": [
    "import numpy as np\n",
    "\n",
    "N = len(aol_data)\n",
    "sizes = np.linspace(0.1, 1, num=10)\n",
    "trie_y = []\n",
    "naive_y = []\n",
    "\n",
    "for sample_size in sizes:\n",
    "    dataset = aol_data.sample(n=int(sample_size * N))\n",
    "    trie = generate_trie(dataset)\n",
    "\n",
    "    trie_y.append(query_trie_avg_time(inp_queries[0]))\n",
    "    naive_y.append(query_naive_avg_time(inp_queries[0]))"
   ]
  },
  {
   "cell_type": "code",
   "execution_count": 19,
   "metadata": {},
   "outputs": [
    {
     "data": {
      "image/png": "[encoded data removed]",
      "text/plain": [
       "<Figure size 1152x288 with 2 Axes>"
      ]
     },
     "metadata": {
      "needs_background": "light"
     },
     "output_type": "display_data"
    }
   ],
   "source": [
    "import matplotlib.pyplot as plt\n",
    "\n",
    "plt.figure(figsize=(16, 4))\n",
    "plt.subplot(1, 2, 1)\n",
    "plt.plot(sizes, trie_y, label=\"execution time using trie\")\n",
    "plt.legend()\n",
    "plt.subplot(1, 2, 2)\n",
    "plt.plot(sizes, naive_y, label=\"execution time using naive search\")\n",
    "plt.legend()\n",
    "plt.show()"
   ]
  },
  {
   "cell_type": "markdown",
   "metadata": {},
   "source": [
    "## 4. [10] Add spellchecking to your suggest\n",
    "\n",
    "Try to make your search results as close as possible. Compare top-5 results of each query with top-5 results for corrected.\n",
    "\n",
    "You can use use [pyspellchecker](https://pypi.org/project/pyspellchecker/) `candidates()` call, or use any other spellchecker implementation."
   ]
  },
  {
   "cell_type": "code",
   "execution_count": 21,
   "metadata": {},
   "outputs": [
    {
     "name": "stdout",
     "output_type": "stream",
     "text": [
      "\u001b[33mDEPRECATION: Configuring installation scheme with distutils config files is deprecated and will no longer work in the near future. If you are using a Homebrew or Linuxbrew Python, please see discussion at https://github.com/Homebrew/homebrew-core/issues/76621\u001b[0m\u001b[33m\n",
      "\u001b[0mCollecting pyspellchecker\n",
      "  Downloading pyspellchecker-0.6.3-py3-none-any.whl (2.7 MB)\n",
      "\u001b[2K     \u001b[90m━━━━━━━━━━━━━━━━━━━━━━━━━━━━━━━━━━━━━━━━\u001b[0m \u001b[32m2.7/2.7 MB\u001b[0m \u001b[31m3.2 MB/s\u001b[0m eta \u001b[36m0:00:00\u001b[0m00:01\u001b[0m00:01\u001b[0m\n",
      "\u001b[?25hInstalling collected packages: pyspellchecker\n",
      "\u001b[33m  DEPRECATION: Configuring installation scheme with distutils config files is deprecated and will no longer work in the near future. If you are using a Homebrew or Linuxbrew Python, please see discussion at https://github.com/Homebrew/homebrew-core/issues/76621\u001b[0m\u001b[33m\n",
      "\u001b[0m\u001b[33mDEPRECATION: Configuring installation scheme with distutils config files is deprecated and will no longer work in the near future. If you are using a Homebrew or Linuxbrew Python, please see discussion at https://github.com/Homebrew/homebrew-core/issues/76621\u001b[0m\u001b[33m\n",
      "\u001b[0mSuccessfully installed pyspellchecker-0.6.3\n"
     ]
    }
   ],
   "source": [
    "!pip3 install pyspellchecker"
   ]
  },
  {
   "cell_type": "code",
   "execution_count": 170,
   "metadata": {},
   "outputs": [],
   "source": [
    "from spellchecker import SpellChecker\n",
    "from itertools import product\n",
    "\n",
    "def complete_user_query_with_spellchecker(query, trie, top_k=5) -> list[str]:\n",
    "    #TODO: suggest top_k options for a user query\n",
    "    # sort results by frequency (!!), \n",
    "    # suggest the QUERIES for first k ranked urls if available\n",
    "\n",
    "    spell = SpellChecker()\n",
    "    \n",
    "    word_lst = query.split()\n",
    "    \n",
    "    unknown_words = list(spell.unknown(word_lst))\n",
    "    unknown_words = [x for x in unknown_words if len(x) > 1]\n",
    "    candidates = {x: list(spell.candidates(x)) for x in unknown_words}\n",
    "    candidates = list(product(*candidates.values()))\n",
    "    \n",
    "    possible_queries = []\n",
    "    for cand in candidates:\n",
    "        new_word_lst = [x for x in word_lst]\n",
    "        for wrong, fixed in zip(unknown_words, cand):\n",
    "            for i in range(len(new_word_lst)):\n",
    "                if(new_word_lst[i] == wrong):\n",
    "                    new_word_lst[i] = fixed\n",
    "        new_query = \" \".join(new_word_lst)\n",
    "        possible_queries.append(new_query)\n",
    "    \n",
    "    q_res = list(map(lambda x: complete_user_query(x, trie), possible_queries))\n",
    "    res = sorted(q_res, key=lambda x: -len(x))\n",
    "    \n",
    "    if len(res):\n",
    "        return res[0]\n",
    "\n",
    "    return []\n",
    "        "
   ]
  },
  {
   "cell_type": "code",
   "execution_count": 172,
   "metadata": {},
   "outputs": [],
   "source": [
    "inp_queries = [\"inormation retrieval\", \"shelrock hol\", \"carnagie mell\", \"babies r\", \"Barrbara \"]\n",
    "inp_queries_corrected = [\"information retrieval\", \"sherlock hol\", \"carnegie mell\", \"babies r\", \"Barbara \"]\n",
    "\n",
    "for q, qc in zip(inp_queries, inp_queries_corrected):\n",
    "    assert  complete_user_query(qc, aol_trie, 5) == \\\n",
    "            complete_user_query_with_spellchecker(q, aol_trie, 5), \"Assert {} and {} give different results\".format(q, qc)"
   ]
  },
  {
   "cell_type": "markdown",
   "metadata": {
    "tags": []
   },
   "source": [
    "## 5. [M][20] What if the query is in the middle?\n",
    "\n",
    "Modify your code to suggest string even if the query is found **in the middle** of the text. Think about techniques you can borrow from our previous classes, e.g. about wildcard search.\n",
    "\n",
    "E.g. `Semantic Parsing` in \n",
    "\n",
    "```\n",
    "3DCNN-DQN-RNN: A Deep Reinforcement Learning Framework for Semantic Parsing of Large-scale 3D Point Clouds\n",
    "                                                           ~~~~~~~~~~~~~~~~\n",
    "```\n",
    "\n",
    "**NB**: Please extend you trie-based approach. Even if using `in` and regexp can give you same result, this is not a scalable approach, which we will not accept.\n",
    "\n",
    "Pass the asserts."
   ]
  },
  {
   "cell_type": "code",
   "execution_count": null,
   "metadata": {},
   "outputs": [],
   "source": [
    "newtrie = None\n",
    "\n",
    "## YOUR CODE HERE\n",
    "\n",
    "def complete_user_query_with_spellchecker_and_middle(query, trie, top_k=5) -> list[str]:\n",
    "    #TODO: suggest top_k options for a user query\n",
    "    # sort results by frequency (!!), \n",
    "    # suggest the QUERIES for first k ranked urls if available\n",
    "    pass"
   ]
  },
  {
   "cell_type": "code",
   "execution_count": null,
   "metadata": {},
   "outputs": [],
   "source": [
    "assert \"ricky martin beach\" in complete_user_query_with_spellchecker_and_middle(\n",
    "            \"martin beach\", newtrie, 20)\n",
    "assert \"free adult movie\" in  complete_user_query_with_spellchecker_and_middle(\n",
    "            \"adult movie\", newtrie, 20)"
   ]
  },
  {
   "cell_type": "markdown",
   "metadata": {},
   "source": [
    "## 6. [M][20] Enrich your suggest with search results\n",
    "\n",
    "Your users will be happy if at typing the query they will see not only suggested queries, but also snippets of the answers to these queries!\n",
    "\n",
    "Imagine you type \"continental air\", and the search engine suggests you \"continental airlines\" together with the URL and snippet kind of `\"Continental Airlines was a major American airline founded in 1934 and eventually headquartered in Houston, Texas...\"`, which you borrow from the search engine snippet. How can you add existing search enginge to your code? [One](https://yandex.com/dev/xml/doc/dg/task/quickstart.html), [two](https://docs.microsoft.com/en-us/bing/search-apis/bing-web-search/search-the-web), [three](https://searx.roughs.ru/), ...\n",
    "\n",
    "Improve your suggest. It should return a tuple of 3 instead on a string: `(query, text, url)`. Write your own tests which will for the query `continental air` return among the results:\n",
    "1. `query` = `continental airlines`.\n",
    "2. \n",
    "`Continental Airlines was a major American airline founded in 1934` in `text`.\n",
    "3. `url` = `https://en.wikipedia.org/wiki/Continental_Airlines`."
   ]
  },
  {
   "cell_type": "code",
   "execution_count": null,
   "metadata": {},
   "outputs": [],
   "source": [
    "def complete_user_query_with_spellchecker_and_middle_with_snippets(query, trie, top_k=5) -> list[tuple]:\n",
    "    #TODO\n",
    "    pass"
   ]
  },
  {
   "cell_type": "code",
   "execution_count": null,
   "metadata": {},
   "outputs": [],
   "source": [
    "# YOUR TESTS HERE"
   ]
  }
 ],
 "metadata": {
  "kernelspec": {
   "display_name": "Python 3 (ipykernel)",
   "language": "python",
   "name": "python3"
  },
  "language_info": {
   "codemirror_mode": {
    "name": "ipython",
    "version": 3
   },
   "file_extension": ".py",
   "mimetype": "text/x-python",
   "name": "python",
   "nbconvert_exporter": "python",
   "pygments_lexer": "ipython3",
   "version": "3.9.12"
  }
 },
 "nbformat": 4,
 "nbformat_minor": 4
}
